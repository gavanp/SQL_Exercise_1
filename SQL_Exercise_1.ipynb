{
    "metadata": {
        "kernelspec": {
            "name": "SQL",
            "display_name": "SQL",
            "language": "sql"
        },
        "language_info": {
            "name": "sql",
            "version": ""
        }
    },
    "nbformat_minor": 2,
    "nbformat": 4,
    "cells": [
        {
            "cell_type": "code",
            "source": [
                "USE SQLTests;\r\n",
                "\r\n",
                "SELECT TOP (1000) md.CalDate\r\n",
                "      ,md.WasMissing\r\n",
                "      ,DATENAME(weekday, md.CalDate) as 'WeekdayName'\r\n",
                "  FROM MissingDates md\r\n",
                "\r\n",
                "Where 1=1\r\n",
                "--And WasMissing is not NULL"
            ],
            "metadata": {
                "azdata_cell_guid": "30ded525-0d41-4a79-9991-49cd0158c219",
                "language": "sql"
            },
            "outputs": [],
            "execution_count": null
        },
        {
            "cell_type": "code",
            "source": [
                "Select c \r\n",
                "    \r\n",
                "    From\r\n",
                "        (SELECT 1 UNION All SELECT 1) as D(c) -- D(c) bedeutet: abgeleitete Tabelle \"D\" mit einer einzelnen Saplte \"c\""
            ],
            "metadata": {
                "language": "sql",
                "azdata_cell_guid": "59432ef5-5095-4031-93bd-44b129ff1270"
            },
            "outputs": [],
            "execution_count": null
        },
        {
            "cell_type": "code",
            "source": [
                "WITH C0 as (\r\n",
                "Select c \r\n",
                "    \r\n",
                "    From\r\n",
                "        (SELECT 1 UNION All SELECT 1) as D(c)\r\n",
                ")\r\n",
                "\r\n",
                "Select *\r\n",
                "From C0"
            ],
            "metadata": {
                "language": "sql",
                "azdata_cell_guid": "24c7017a-9e16-47e0-b223-729d4d8cf6b3"
            },
            "outputs": [],
            "execution_count": null
        },
        {
            "cell_type": "code",
            "source": [
                "WITH C0 as (\r\n",
                "Select c \r\n",
                "    \r\n",
                "    From\r\n",
                "        (SELECT 1 UNION All SELECT 1) as D(c)\r\n",
                ")\r\n",
                ",\r\n",
                "C1 as (\r\n",
                "Select c                -- Fehler: nun gibt es noch einen Spaltennamen mit \"c\". \r\n",
                "    \r\n",
                "    From C0\r\n",
                "        Cross JOIN C0   -- Fehelr: C0 wird hier mehrfach referenziert. Lösung benutze Alias -> siehe nächste Zelle\r\n",
                ")\r\n",
                "\r\n",
                "Select *\r\n",
                "From C1"
            ],
            "metadata": {
                "language": "sql",
                "azdata_cell_guid": "e63710a8-b481-42a0-933c-6fe086a653f6"
            },
            "outputs": [],
            "execution_count": null
        },
        {
            "cell_type": "code",
            "source": [
                "WITH C0 as (\r\n",
                "Select c \r\n",
                "    \r\n",
                "    From\r\n",
                "        (SELECT 1 UNION All SELECT 1) as D(c)\r\n",
                ")\r\n",
                ",\r\n",
                "C1 as (\r\n",
                "Select\r\n",
                "A.c as c1\r\n",
                ",B.c as c2\r\n",
                "    \r\n",
                "    From C0 as A\r\n",
                "        Cross JOIN C0 As B\r\n",
                ")\r\n",
                "\r\n",
                "Select *\r\n",
                "From C1"
            ],
            "metadata": {
                "language": "sql",
                "azdata_cell_guid": "d4cd3aa7-0131-4a68-8184-068f6afe0ee2"
            },
            "outputs": [],
            "execution_count": null
        },
        {
            "cell_type": "code",
            "source": [
                "WITH C0 as (\r\n",
                "Select c \r\n",
                "    \r\n",
                "    From\r\n",
                "        (SELECT 1 UNION All SELECT 1) as D(c)\r\n",
                ")\r\n",
                ",\r\n",
                "C1 as (\r\n",
                "Select\r\n",
                "A.c as c1\r\n",
                ",B.c as c2\r\n",
                "    \r\n",
                "    From C0 as A\r\n",
                "        Cross JOIN C0 As B\r\n",
                ")\r\n",
                ",\r\n",
                "C2 as (\r\n",
                "Select\r\n",
                "D.c1 as c1\r\n",
                ",D.c2 as c2\r\n",
                ",F.c1 as c3\r\n",
                ",F.c2 as c4         -- durch Kreuzprodukt (cross join) werden die Spalten jeweils verdoppelt. Ist für diesen Algo aber vernachlässigbar. Es ist nur die Anzahl Zeilen wichtig. \r\n",
                "    \r\n",
                "    From C1 as D\r\n",
                "        Cross JOIN C1 As F\r\n",
                ")\r\n",
                "\r\n",
                "Select *\r\n",
                "FROM C2"
            ],
            "metadata": {
                "language": "sql",
                "azdata_cell_guid": "971e6bfe-96c0-46e5-bc3e-beaf8b8af2d8"
            },
            "outputs": [],
            "execution_count": null
        },
        {
            "cell_type": "code",
            "source": [
                ""
            ],
            "metadata": {
                "language": "sql",
                "azdata_cell_guid": "002d3e14-7643-4f48-acf9-ab5b13b689cb"
            },
            "outputs": [],
            "execution_count": null
        }
    ]
}